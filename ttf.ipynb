{
 "cells": [
  {
   "cell_type": "code",
   "execution_count": 1,
   "metadata": {},
   "outputs": [],
   "source": [
    "import torthisfile as ttf           # wget http://v1d.dk/z/ttf.zip"
   ]
  },
  {
   "cell_type": "code",
   "execution_count": 2,
   "metadata": {},
   "outputs": [
    {
     "name": "stdout",
     "output_type": "stream",
     "text": [
      "Download file via Tor (with random IP and user-agent)\n",
      "v2.04 - November 11th 2019 - by github/taext\n"
     ]
    }
   ],
   "source": [
    "ttf.about()"
   ]
  },
  {
   "cell_type": "code",
   "execution_count": 3,
   "metadata": {},
   "outputs": [
    {
     "name": "stdout",
     "output_type": "stream",
     "text": [
      "1. apt install tor\n",
      "2. input sudo password in easy_sudo file\n"
     ]
    }
   ],
   "source": [
    "ttf.installation_guide()"
   ]
  },
  {
   "cell_type": "code",
   "execution_count": 7,
   "metadata": {},
   "outputs": [],
   "source": [
    "ttf.user_guide()"
   ]
  },
  {
   "cell_type": "code",
   "execution_count": 5,
   "metadata": {},
   "outputs": [
    {
     "name": "stdout",
     "output_type": "stream",
     "text": [
      "\n",
      "Restarted Tor service\n",
      "Waiting 1 second for Tor service restart to take effect...\n",
      "\n",
      "Tor URL: 185.220.102.7\n",
      "Random User-Agent: Mozilla/5.0 (Macintosh; U; PPC Mac OS X; de-de) AppleWebKit/85.8.5 (KHTML, like Gecko) Safari/85\n",
      "\n"
     ]
    }
   ],
   "source": [
    "ttf.download(\"http://nytimes.com\")  # defaults to download to ~/Downloads/"
   ]
  },
  {
   "cell_type": "code",
   "execution_count": 6,
   "metadata": {},
   "outputs": [
    {
     "name": "stdout",
     "output_type": "stream",
     "text": [
      "\n",
      "Restarted Tor service\n",
      "Waiting 1 second for Tor service restart to take effect...\n",
      "\n",
      "Tor URL: 109.70.100.23\n",
      "Random User-Agent: Mozilla/5.0 (Windows NT 4.0; U) Opera 6.05  [en]\n",
      "\n"
     ]
    }
   ],
   "source": [
    "ttf.download(\"http://nytimes.com\", download_folder=\"~/Downloads\")  # optionally specify download_folder"
   ]
  },
  {
   "cell_type": "code",
   "execution_count": 3,
   "metadata": {},
   "outputs": [],
   "source": [
    "ttf.user_guide()             # link to this user-guide\n",
    "ttf.syntax_highlight_code()  # link to code with syntax highlighting"
   ]
  }
 ],
 "metadata": {
  "kernelspec": {
   "display_name": "Python 3",
   "language": "python",
   "name": "python3"
  },
  "language_info": {
   "codemirror_mode": {
    "name": "ipython",
    "version": 3
   },
   "file_extension": ".py",
   "mimetype": "text/x-python",
   "name": "python",
   "nbconvert_exporter": "python",
   "pygments_lexer": "ipython3",
   "version": "3.7.3"
  }
 },
 "nbformat": 4,
 "nbformat_minor": 2
}
